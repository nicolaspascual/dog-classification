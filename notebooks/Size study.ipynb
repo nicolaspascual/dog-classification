{
 "cells": [
  {
   "cell_type": "code",
   "execution_count": 1,
   "metadata": {},
   "outputs": [
    {
     "name": "stderr",
     "output_type": "stream",
     "text": [
      "/apps/K80/PYTHON/3.6.3_ML/lib/python3.6/site-packages/pkg_resources/__init__.py:1324: UserWarning: /home/nct01/nct01011/.cache/Python-Eggs is writable by group/others and vulnerable to attack when used with get_resource_filename. Consider a more secure location (set with .set_extraction_path or the PYTHON_EGG_CACHE environment variable).\n",
      "  warnings.warn(msg, UserWarning)\n"
     ]
    }
   ],
   "source": [
    "import os\n",
    "from glob import glob\n",
    "from PIL import Image\n",
    "import matplotlib.pyplot as plt"
   ]
  },
  {
   "cell_type": "code",
   "execution_count": 2,
   "metadata": {},
   "outputs": [],
   "source": [
    "heights_train = []\n",
    "widths_train = []\n",
    "for im in glob('../data/train/**/*.jpg'):\n",
    "    width, height = Image.open(im).size\n",
    "    heights_train.append(height)\n",
    "    widths_train.append(width)"
   ]
  },
  {
   "cell_type": "code",
   "execution_count": 3,
   "metadata": {},
   "outputs": [],
   "source": [
    "heights_val = []\n",
    "widths_val = []\n",
    "for im in glob('../data/validation/**/*.jpg'):\n",
    "    width, height = Image.open(im).size\n",
    "    heights_val.append(height)\n",
    "    widths_val.append(width)"
   ]
  },
  {
   "cell_type": "code",
   "execution_count": 4,
   "metadata": {},
   "outputs": [],
   "source": [
    "heights_test = []\n",
    "widths_test = []\n",
    "for im in glob('../data/test/**/*.jpg'):\n",
    "    width, height = Image.open(im).size\n",
    "    heights_test.append(height)\n",
    "    widths_test.append(width)"
   ]
  },
  {
   "cell_type": "code",
   "execution_count": 5,
   "metadata": {},
   "outputs": [
    {
     "data": {
      "text/plain": [
       "(array([7.53e+02, 1.26e+03, 2.90e+01, 6.00e+00, 2.00e+00, 0.00e+00,\n",
       "        1.00e+00, 0.00e+00, 0.00e+00, 1.00e+00]),\n",
       " array([  97. ,  413.7,  730.4, 1047.1, 1363.8, 1680.5, 1997.2, 2313.9,\n",
       "        2630.6, 2947.3, 3264. ]),\n",
       " <a list of 10 Patch objects>)"
      ]
     },
     "execution_count": 5,
     "metadata": {},
     "output_type": "execute_result"
    },
    {
     "data": {
      "image/png": "[encoded data removed]",
      "text/plain": [
       "<matplotlib.figure.Figure at 0x2af7f8823fd0>"
      ]
     },
     "metadata": {},
     "output_type": "display_data"
    }
   ],
   "source": [
    "plt.subplot(3,1,1)\n",
    "plt.hist(heights_train, alpha=0.6)\n",
    "plt.hist(widths_train, alpha=0.6)\n",
    "plt.subplot(3,1,2)\n",
    "plt.hist(heights_val, alpha=0.6)\n",
    "plt.hist(widths_val, alpha=0.6)\n",
    "plt.subplot(3,1,3)\n",
    "plt.hist(heights_test, alpha=0.6)\n",
    "plt.hist(widths_test, alpha=0.6)"
   ]
  }
 ],
 "metadata": {
  "kernelspec": {
   "display_name": "Python 3",
   "language": "python",
   "name": "python3"
  },
  "language_info": {
   "codemirror_mode": {
    "name": "ipython",
    "version": 3
   },
   "file_extension": ".py",
   "mimetype": "text/x-python",
   "name": "python",
   "nbconvert_exporter": "python",
   "pygments_lexer": "ipython3",
   "version": "3.6.3"
  }
 },
 "nbformat": 4,
 "nbformat_minor": 2
}
